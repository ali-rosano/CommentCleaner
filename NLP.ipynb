{
 "cells": [
  {
   "cell_type": "code",
   "execution_count": 17,
   "id": "a09ac5b0-7996-432e-b3e3-b938bdfb5e30",
   "metadata": {},
   "outputs": [],
   "source": [
    "import pandas as pd"
   ]
  },
  {
   "cell_type": "code",
   "execution_count": 29,
   "id": "9178ba30-0275-46c3-b940-e36991394391",
   "metadata": {},
   "outputs": [],
   "source": [
    "df = pd.read_csv(\"youtoxic.csv\")"
   ]
  },
  {
   "cell_type": "code",
   "execution_count": 30,
   "id": "f37d968c-64da-438d-afdc-50b97e8975c3",
   "metadata": {},
   "outputs": [
    {
     "data": {
      "text/plain": [
       "<bound method NDFrame.head of                 CommentId      VideoId  \\\n",
       "0    Ugg2KwwX0V8-aXgCoAEC  04kJtp6pVXI   \n",
       "1    Ugg2s5AzSPioEXgCoAEC  04kJtp6pVXI   \n",
       "2    Ugg3dWTOxryFfHgCoAEC  04kJtp6pVXI   \n",
       "3    Ugg7Gd006w1MPngCoAEC  04kJtp6pVXI   \n",
       "4    Ugg8FfTbbNF8IngCoAEC  04kJtp6pVXI   \n",
       "..                    ...          ...   \n",
       "995  Ugi5ADt10EdDz3gCoAEC  XRuCW80L9mA   \n",
       "996  Ugifh2DMhBbDkHgCoAEC  XRuCW80L9mA   \n",
       "997  Ugj_plbGBjjzYXgCoAEC  XRuCW80L9mA   \n",
       "998  Ugj0bah1De8xy3gCoAEC  XRuCW80L9mA   \n",
       "999  UgjBJKQSoQMQ6ngCoAEC  XRuCW80L9mA   \n",
       "\n",
       "                                                  Text  IsToxic  IsAbusive  \\\n",
       "0    If only people would just take a step back and...    False      False   \n",
       "1    Law enforcement is not trained to shoot to app...     True       True   \n",
       "2    \\nDont you reckon them 'black lives matter' ba...     True       True   \n",
       "3    There are a very large number of people who do...    False      False   \n",
       "4    The Arab dude is absolutely right, he should h...    False      False   \n",
       "..                                                 ...      ...        ...   \n",
       "995  I remember that they sent in the national defe...    False      False   \n",
       "996  Stats don`t represent the problem. Race baitin...     True      False   \n",
       "997  The quote from the mother... Wow that hit hard...    False      False   \n",
       "998                            this video is so racist    False      False   \n",
       "999      God, the narrator has such an annoying lisp.     False      False   \n",
       "\n",
       "     IsThreat  IsProvocative  IsObscene  IsHatespeech  IsRacist  \\\n",
       "0       False          False      False         False     False   \n",
       "1       False          False      False         False     False   \n",
       "2       False          False       True         False     False   \n",
       "3       False          False      False         False     False   \n",
       "4       False          False      False         False     False   \n",
       "..        ...            ...        ...           ...       ...   \n",
       "995     False          False      False         False     False   \n",
       "996     False          False      False          True      True   \n",
       "997     False          False      False         False     False   \n",
       "998     False          False      False         False     False   \n",
       "999     False          False      False         False     False   \n",
       "\n",
       "     IsNationalist  IsSexist  IsHomophobic  IsReligiousHate  IsRadicalism  \n",
       "0            False     False         False            False         False  \n",
       "1            False     False         False            False         False  \n",
       "2            False     False         False            False         False  \n",
       "3            False     False         False            False         False  \n",
       "4            False     False         False            False         False  \n",
       "..             ...       ...           ...              ...           ...  \n",
       "995          False     False         False            False         False  \n",
       "996          False     False         False            False         False  \n",
       "997          False     False         False            False         False  \n",
       "998          False     False         False            False         False  \n",
       "999          False     False         False            False         False  \n",
       "\n",
       "[1000 rows x 15 columns]>"
      ]
     },
     "execution_count": 30,
     "metadata": {},
     "output_type": "execute_result"
    }
   ],
   "source": [
    "df.head"
   ]
  },
  {
   "cell_type": "code",
   "execution_count": 31,
   "id": "c12160ce-c900-4db0-b751-95357c51931b",
   "metadata": {},
   "outputs": [],
   "source": [
    "import re\n",
    "\n",
    "def clean_text(text):\n",
    "    # Elimina caracteres especiales y puntuación\n",
    "    text = re.sub(r'[^a-zA-Z ]', '', text)\n",
    "    # Convierte a minúsculas\n",
    "    text = text.lower()\n",
    "    # Elimina números\n",
    "    text = re.sub(r'\\d', '', text)\n",
    "    # Elimina espacios en blanco adicionales\n",
    "    text = ' '.join(text.split())\n",
    "    return text\n",
    "\n",
    "# Aplica la limpieza a la columna 'text'\n",
    "df['Text'] = df['Text'].apply(clean_text)"
   ]
  },
  {
   "cell_type": "code",
   "execution_count": 32,
   "id": "abc709e1-a41a-4600-8d80-ce9b861e0f42",
   "metadata": {},
   "outputs": [
    {
     "data": {
      "text/plain": [
       "0      if only people would just take a step back and...\n",
       "1      law enforcement is not trained to shoot to app...\n",
       "2      dont you reckon them black lives matter banner...\n",
       "3      there are a very large number of people who do...\n",
       "4      the arab dude is absolutely right he should ha...\n",
       "                             ...                        \n",
       "995    i remember that they sent in the national defe...\n",
       "996    stats dont represent the problem race baiting ...\n",
       "997    the quote from the mother wow that hit hard ve...\n",
       "998                              this video is so racist\n",
       "999           god the narrator has such an annoying lisp\n",
       "Name: Text, Length: 1000, dtype: object"
      ]
     },
     "execution_count": 32,
     "metadata": {},
     "output_type": "execute_result"
    }
   ],
   "source": [
    "df['Text']"
   ]
  },
  {
   "cell_type": "code",
   "execution_count": 33,
   "id": "9d258e2f-6b5b-4256-9695-d123a93527c0",
   "metadata": {},
   "outputs": [
    {
     "data": {
      "text/plain": [
       "False"
      ]
     },
     "execution_count": 33,
     "metadata": {},
     "output_type": "execute_result"
    }
   ],
   "source": [
    "df['caracteres_no_alfabeticos'] = df['Text'].str.contains(r'[^a-z\\s]')\n",
    "df['caracteres_no_alfabeticos'].any()"
   ]
  },
  {
   "cell_type": "code",
   "execution_count": 34,
   "id": "b360d095-7f15-4922-8f96-91d126fdce53",
   "metadata": {},
   "outputs": [],
   "source": [
    "import spacy\n",
    "nlp = spacy.load(\"en_core_web_sm\")  "
   ]
  },
  {
   "cell_type": "code",
   "execution_count": 35,
   "id": "a7ec9fc6-9b3c-400c-915d-4ef31177665b",
   "metadata": {},
   "outputs": [
    {
     "data": {
      "text/plain": [
       "0      people step case nt people situation lump mess...\n",
       "1      law enforcement trained shoot apprehend traine...\n",
       "2      nt reckon black lives matter banners held whit...\n",
       "3      large number people like police officers calle...\n",
       "4      arab dude absolutely right shot extra time sho...\n",
       "                             ...                        \n",
       "995                       remember sent national defence\n",
       "996    stats nt represent problem race baiting attitu...\n",
       "997                   quote mother wow hit hard accurate\n",
       "998                                         video racist\n",
       "999                           god narrator annoying lisp\n",
       "Name: wo_stop, Length: 1000, dtype: object"
      ]
     },
     "execution_count": 35,
     "metadata": {},
     "output_type": "execute_result"
    }
   ],
   "source": [
    "\n",
    "def remove_stopwords(text):\n",
    "    doc = nlp(text)\n",
    "    tokens = [token.text for token in doc if not token.is_stop]\n",
    "    return ' '.join(tokens)\n",
    "\n",
    "\n",
    "df['wo_stop'] = df['Text'].apply(remove_stopwords)\n",
    "df['wo_stop']"
   ]
  },
  {
   "cell_type": "code",
   "execution_count": 26,
   "id": "af669fd3-742f-4533-9bc7-d70b06120100",
   "metadata": {},
   "outputs": [
    {
     "data": {
      "text/plain": [
       "'people step case nt people situation lump mess matters hands makes kinds protests selfish rational thought investigation guy video heavily emotional hyped wants heard gets heard presses reasonable discussion kudos smerconish keeping level time letting masri fool dare tore city protest dishonor entire incident hate way police brutality epidemic wish stop pretending like knew exactly going s measurable people honestly witnessed incident clue way issue swung grand jury informed trust majority rule right course action let thank police officers americathat actually serve protect bit jerk pull respect job know people going pout held accountable actions people hate police need officer emergency'"
      ]
     },
     "execution_count": 26,
     "metadata": {},
     "output_type": "execute_result"
    }
   ],
   "source": [
    "df.loc[0, 'wo_stop']"
   ]
  },
  {
   "cell_type": "code",
   "execution_count": 36,
   "id": "ce1b2207-f05e-47d8-a294-301123bf346a",
   "metadata": {},
   "outputs": [
    {
     "data": {
      "text/plain": [
       "'if only people would just take a step back and not make this case about them because it wasnt about anyone except the two people in that situation to lump yourself into this mess and take matters into your own hands makes these kinds of protests selfish and without rational thought and investigation the guy in this video is heavily emotional and hyped up and wants to be heard and when he gets heard he just presses more and more he was never out to have a reasonable discussion kudos to the smerconish for keeping level the whole time and letting masri make himself out to be a fool how dare he and those that tore that city down in protest make this about themselves and to dishonor the entire incident with their own hate by the way since when did police brutality become an epidemic i wish everyone would just stop pretending like they were there and they knew exactly what was going on because theres no measurable amount of people that honestly witnessed this incident so none of us have a clue on which way this whole issue should have swung the grand jury were the most informed we have to trust the majority rule was the right course of action and let it be also thank you to the of police officers in americathat actually serve protect even if youre a bit of a jerk when you pull me over i respect your job and know that someone has to do it and that many people are going to pout about being held accountable to their actions people hate police until they need an officer or two around in an emergency'"
      ]
     },
     "execution_count": 36,
     "metadata": {},
     "output_type": "execute_result"
    }
   ],
   "source": [
    "df.loc[0, 'Text']"
   ]
  },
  {
   "cell_type": "code",
   "execution_count": 15,
   "id": "192fa367-aa13-40f5-8290-0caa9539bc68",
   "metadata": {},
   "outputs": [
    {
     "data": {
      "text/plain": [
       "'dont you reckon them black lives matter banners being held by white cunts is kinda patronizing and ironically racist could they have not come up with somethin better or is it just what white folks do to give them selves pride ooo look at me im being nice for the black people why does it always have to be about race actually the whole world is pussyfootin around for fear of being racist its fuckin daft man'"
      ]
     },
     "execution_count": 15,
     "metadata": {},
     "output_type": "execute_result"
    }
   ],
   "source": [
    "df.loc[2, 'Text']"
   ]
  },
  {
   "cell_type": "code",
   "execution_count": 39,
   "id": "fd3440b1-b366-4f2d-bddd-85920b4ec804",
   "metadata": {},
   "outputs": [],
   "source": [
    "def tokenize_text(text):\n",
    "    doc = nlp(text)\n",
    "    tokens = [token.text for token in doc]\n",
    "    return tokens\n",
    "\n",
    "df['tokens'] = df['wo_stop'].apply(tokenize_text)"
   ]
  },
  {
   "cell_type": "code",
   "execution_count": 41,
   "id": "a17b2d30-982b-40dd-82d6-ef392443181f",
   "metadata": {},
   "outputs": [
    {
     "data": {
      "text/plain": [
       "0      [people, step, case, nt, people, situation, lu...\n",
       "1      [law, enforcement, trained, shoot, apprehend, ...\n",
       "2      [nt, reckon, black, lives, matter, banners, he...\n",
       "3      [large, number, people, like, police, officers...\n",
       "4      [arab, dude, absolutely, right, shot, extra, t...\n",
       "                             ...                        \n",
       "995                  [remember, sent, national, defence]\n",
       "996    [stats, nt, represent, problem, race, baiting,...\n",
       "997            [quote, mother, wow, hit, hard, accurate]\n",
       "998                                      [video, racist]\n",
       "999                      [god, narrator, annoying, lisp]\n",
       "Name: tokens, Length: 1000, dtype: object"
      ]
     },
     "execution_count": 41,
     "metadata": {},
     "output_type": "execute_result"
    }
   ],
   "source": [
    "df['tokens']"
   ]
  },
  {
   "cell_type": "code",
   "execution_count": null,
   "id": "5faa9cec-2363-4320-a188-82cec15642a3",
   "metadata": {},
   "outputs": [],
   "source": []
  }
 ],
 "metadata": {
  "kernelspec": {
   "display_name": "Python 3 (ipykernel)",
   "language": "python",
   "name": "python3"
  },
  "language_info": {
   "codemirror_mode": {
    "name": "ipython",
    "version": 3
   },
   "file_extension": ".py",
   "mimetype": "text/x-python",
   "name": "python",
   "nbconvert_exporter": "python",
   "pygments_lexer": "ipython3",
   "version": "3.11.5"
  }
 },
 "nbformat": 4,
 "nbformat_minor": 5
}
